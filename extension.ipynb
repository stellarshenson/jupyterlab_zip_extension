{
 "cells": [
  {
   "cell_type": "code",
   "execution_count": 9,
   "id": "de16642c-0061-4fd4-978b-bc8c23a42360",
   "metadata": {
    "execution": {
     "iopub.execute_input": "2025-09-26T20:09:07.344097Z",
     "iopub.status.busy": "2025-09-26T20:09:07.343869Z",
     "iopub.status.idle": "2025-09-26T20:09:07.349421Z",
     "shell.execute_reply": "2025-09-26T20:09:07.348722Z",
     "shell.execute_reply.started": "2025-09-26T20:09:07.344087Z"
    }
   },
   "outputs": [
    {
     "name": "stdout",
     "output_type": "stream",
     "text": [
      "Connection failed\n"
     ]
    }
   ],
   "source": [
    "import requests\n",
    "import os\n",
    "import json\n",
    "\n",
    "token = os.environ['JPY_API_TOKEN']\n",
    "\n",
    "url = \"http://jupyterhub/jupyterhub/user/konrad/jupyterlab-unzip/unzip\"\n",
    "\n",
    "headers = {\n",
    "    \"Authorization\": f\"token {token}\",\n",
    "    \"Content-Type\": \"application/json\"\n",
    "}\n",
    "\n",
    "data = {\n",
    "    \"archive_path\": \"/private/jupyterlab/jupyterlab_unzip/temp.zip\"\n",
    "}\n",
    "\n",
    "try:\n",
    "    response = requests.post(url, headers=headers, json=data, timeout=5)\n",
    "    \n",
    "    print(f\"Status Code: {response.status_code}\")\n",
    "    # print(f\"Response Body: {response.text}\")\n",
    "    \n",
    "    if response.status_code == 200:\n",
    "        result = response.json()\n",
    "        print(f\"\\nExtracted to: {result.get('extract_path')}\")\n",
    "        print(f\"Message: {result.get('message')}\")\n",
    "    elif response.status_code == 404:\n",
    "        print(\"\\n404\")\n",
    "    else:\n",
    "        print(f\"\\nError response: {response.text}\")\n",
    "        \n",
    "except requests.exceptions.ConnectionError:\n",
    "    print(\"Connection failed\")\n",
    "except Exception as e:\n",
    "    print(f\"Request failed: {e}\")"
   ]
  },
  {
   "cell_type": "code",
   "execution_count": 10,
   "id": "4a264400-bd07-40f2-be05-75fe2c8f974e",
   "metadata": {
    "execution": {
     "iopub.execute_input": "2025-09-26T20:19:07.322766Z",
     "iopub.status.busy": "2025-09-26T20:19:07.322560Z",
     "iopub.status.idle": "2025-09-26T20:19:07.669389Z",
     "shell.execute_reply": "2025-09-26T20:19:07.668727Z",
     "shell.execute_reply.started": "2025-09-26T20:19:07.322754Z"
    }
   },
   "outputs": [
    {
     "name": "stdout",
     "output_type": "stream",
     "text": [
      "ccab784b56124e919bede2399a83e6de\n"
     ]
    }
   ],
   "source": [
    "!echo $JPY_API_TOKEN"
   ]
  },
  {
   "cell_type": "code",
   "execution_count": null,
   "id": "d63f57c0-9887-4c89-a73d-933f5615c824",
   "metadata": {},
   "outputs": [],
   "source": []
  }
 ],
 "metadata": {
  "kernelspec": {
   "display_name": "Python [conda env:base] *",
   "language": "python",
   "name": "conda-base-py"
  },
  "language_info": {
   "codemirror_mode": {
    "name": "ipython",
    "version": 3
   },
   "file_extension": ".py",
   "mimetype": "text/x-python",
   "name": "python",
   "nbconvert_exporter": "python",
   "pygments_lexer": "ipython3",
   "version": "3.12.11"
  }
 },
 "nbformat": 4,
 "nbformat_minor": 5
}
